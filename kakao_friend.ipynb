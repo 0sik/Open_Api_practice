{
 "cells": [
  {
   "cell_type": "code",
   "execution_count": 46,
   "id": "b213a69b",
   "metadata": {},
   "outputs": [
    {
     "name": "stdout",
     "output_type": "stream",
     "text": [
      "{'access_token': 'x2HQRjpQnypUcC_YiW0skd7tEkfktWAj08yR13UKCj102QAAAYO9ay0R', 'token_type': 'bearer', 'refresh_token': 'JofFQZkRtItz2ZIaj5Dt9bhhrA5XObALbgCwYLFTCj102QAAAYO9ay0Q', 'expires_in': 21599, 'scope': 'talk_message friends', 'refresh_token_expires_in': 5183999}\n"
     ]
    }
   ],
   "source": [
    "import requests\n",
    "import json\n",
    "\n",
    "url = 'https://kauth.kakao.com/oauth/token'\n",
    "rest_api_key = 'c6d203f80c4cbba0f2865f2cb175a227'\n",
    "redirect_uri = 'https://example.com/oauth'\n",
    "authorize_code = 'yMzbXI295qciBrqHYgD_dZ6EaEnScQuj0D0KAt6GfzOuvmD2Q1XTUvaLUA1amOod8ZvFkAo9dJkAAAGDvWsGUQ'\n",
    "\n",
    "data = {\n",
    "    'grant_type':'authorization_code',\n",
    "    'client_id':rest_api_key,\n",
    "    'redirect_uri':redirect_uri,\n",
    "    'code': authorize_code,\n",
    "    }\n",
    "\n",
    "response = requests.post(url, data=data)\n",
    "tokens = response.json()\n",
    "print(tokens)\n",
    "\n",
    "# kakao_code.json 파일 저장\n",
    "with open(\"kakao_code.json\", \"w\") as fp:\n",
    "    json.dump(tokens, fp)"
   ]
  },
  {
   "cell_type": "code",
   "execution_count": 52,
   "id": "03463ad4",
   "metadata": {},
   "outputs": [
    {
     "name": "stdout",
     "output_type": "stream",
     "text": [
      "<class 'dict'>\n",
      "=============================================\n",
      "{'elements': [], 'total_count': 0, 'after_url': None, 'favorite_count': 0}\n",
      "=============================================\n",
      "[]\n",
      "=============================================\n"
     ]
    },
    {
     "ename": "IndexError",
     "evalue": "list index out of range",
     "output_type": "error",
     "traceback": [
      "\u001b[1;31m---------------------------------------------------------------------------\u001b[0m",
      "\u001b[1;31mIndexError\u001b[0m                                Traceback (most recent call last)",
      "Input \u001b[1;32mIn [52]\u001b[0m, in \u001b[0;36m<cell line: 28>\u001b[1;34m()\u001b[0m\n\u001b[0;32m     26\u001b[0m \u001b[38;5;66;03m# print(type(friends_list))\u001b[39;00m\n\u001b[0;32m     27\u001b[0m \u001b[38;5;28mprint\u001b[39m(\u001b[38;5;124m\"\u001b[39m\u001b[38;5;124m=============================================\u001b[39m\u001b[38;5;124m\"\u001b[39m)\n\u001b[1;32m---> 28\u001b[0m \u001b[38;5;28mprint\u001b[39m(\u001b[43mfriends_list\u001b[49m\u001b[43m[\u001b[49m\u001b[38;5;241;43m0\u001b[39;49m\u001b[43m]\u001b[49m\u001b[38;5;241m.\u001b[39mget(\u001b[38;5;124m\"\u001b[39m\u001b[38;5;124muuid\u001b[39m\u001b[38;5;124m\"\u001b[39m))\n\u001b[0;32m     29\u001b[0m friend_id \u001b[38;5;241m=\u001b[39m friends_list[\u001b[38;5;241m0\u001b[39m]\u001b[38;5;241m.\u001b[39mget(\u001b[38;5;124m\"\u001b[39m\u001b[38;5;124muuid\u001b[39m\u001b[38;5;124m\"\u001b[39m)\n\u001b[0;32m     30\u001b[0m \u001b[38;5;28mprint\u001b[39m(friend_id)\n",
      "\u001b[1;31mIndexError\u001b[0m: list index out of range"
     ]
    }
   ],
   "source": [
    "import requests\n",
    "import json\n",
    "\n",
    "with open(\"kakao_code.json\",\"r\") as fp:\n",
    "    tokens = json.load(fp)\n",
    "\n",
    "# print(tokens)\n",
    "# print(tokens[\"access_token\"])\n",
    "\n",
    "friend_url = \"https://kapi.kakao.com/v1/api/talk/friends\"\n",
    "\n",
    "# GET /v1/api/talk/friends HTTP/1.1\n",
    "# Host: kapi.kakao.com\n",
    "# Authorization: Bearer {ACCESS_TOKEN}\n",
    "\n",
    "headers={\"Authorization\" : \"Bearer \" + tokens[\"access_token\"]}\n",
    "\n",
    "result = json.loads(requests.get(friend_url, headers=headers).text)\n",
    "\n",
    "print(type(result))\n",
    "print(\"=============================================\")\n",
    "print(result)\n",
    "print(\"=============================================\")\n",
    "friends_list = result.get(\"elements\")\n",
    "print(friends_list)\n",
    "# print(type(friends_list))\n",
    "print(\"=============================================\")\n",
    "print(friends_list[0].get(\"uuid\"))\n",
    "friend_id = friends_list[0].get(\"uuid\")\n",
    "print(friend_id)"
   ]
  },
  {
   "cell_type": "code",
   "execution_count": null,
   "id": "373b7961",
   "metadata": {},
   "outputs": [],
   "source": []
  }
 ],
 "metadata": {
  "kernelspec": {
   "display_name": "Python 3 (ipykernel)",
   "language": "python",
   "name": "python3"
  },
  "language_info": {
   "codemirror_mode": {
    "name": "ipython",
    "version": 3
   },
   "file_extension": ".py",
   "mimetype": "text/x-python",
   "name": "python",
   "nbconvert_exporter": "python",
   "pygments_lexer": "ipython3",
   "version": "3.9.12"
  }
 },
 "nbformat": 4,
 "nbformat_minor": 5
}
