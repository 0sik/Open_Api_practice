{
 "cells": [
  {
   "cell_type": "code",
   "execution_count": 1,
   "id": "fbe1ada1",
   "metadata": {},
   "outputs": [
    {
     "name": "stdout",
     "output_type": "stream",
     "text": [
      "{'access_token': 'ndNm3HbuBqgmETByFG-ByXGk4MJJEMLVCYOFXIrsCj11mgAAAYPH5xO_', 'token_type': 'bearer', 'refresh_token': 'PR0fusAUzG-eZWVtfiauX1b4S5tLBcbHIlyUW9l_Cj11mgAAAYPH5xO-', 'expires_in': 21599, 'scope': 'talk_message friends', 'refresh_token_expires_in': 5183999}\n"
     ]
    }
   ],
   "source": [
    "import requests\n",
    "\n",
    "url = 'https://kauth.kakao.com/oauth/token'\n",
    "rest_api_key = 'c6d203f80c4cbba0f2865f2cb175a227'\n",
    "redirect_uri = 'https://example.com/oauth'\n",
    "authorize_code = 'hSQtw7aZqHlf0c24GfnjKX88kAuuXNXZzYxjJjyAHrvIwk1Z0mI67BxMZ0s0IL4egtTE0gorDR8AAAGDx-XqjA'\n",
    "\n",
    "data = {\n",
    "    'grant_type':'authorization_code',\n",
    "    'client_id':rest_api_key,\n",
    "    'redirect_uri':redirect_uri,\n",
    "    'code': authorize_code,\n",
    "    }\n",
    "\n",
    "response = requests.post(url, data=data)\n",
    "tokens = response.json()\n",
    "print(tokens)"
   ]
  },
  {
   "cell_type": "code",
   "execution_count": null,
   "id": "f3dc7f3a",
   "metadata": {},
   "outputs": [],
   "source": []
  }
 ],
 "metadata": {
  "kernelspec": {
   "display_name": "Python 3 (ipykernel)",
   "language": "python",
   "name": "python3"
  },
  "language_info": {
   "codemirror_mode": {
    "name": "ipython",
    "version": 3
   },
   "file_extension": ".py",
   "mimetype": "text/x-python",
   "name": "python",
   "nbconvert_exporter": "python",
   "pygments_lexer": "ipython3",
   "version": "3.9.12"
  }
 },
 "nbformat": 4,
 "nbformat_minor": 5
}
